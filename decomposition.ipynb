{
 "cells": [
  {
   "cell_type": "code",
   "execution_count": 1,
   "id": "a1219739",
   "metadata": {},
   "outputs": [],
   "source": [
    "import sympy as sp\n",
    "\n",
    "from utils import *"
   ]
  },
  {
   "cell_type": "code",
   "execution_count": 2,
   "id": "d2b77785",
   "metadata": {},
   "outputs": [
    {
     "data": {
      "text/latex": [
       "$\\displaystyle \\left[\\begin{matrix}\\frac{1}{2} & \\frac{1}{2} & \\frac{1}{2} & \\frac{1}{2}\\\\\\frac{1}{2} & \\frac{i}{2} & - \\frac{1}{2} & - \\frac{i}{2}\\\\\\frac{1}{2} & - \\frac{1}{2} & \\frac{1}{2} & - \\frac{1}{2}\\\\\\frac{1}{2} & - \\frac{i}{2} & - \\frac{1}{2} & \\frac{i}{2}\\end{matrix}\\right]$"
      ],
      "text/plain": [
       "Matrix([\n",
       "[1/2,  1/2,  1/2,  1/2],\n",
       "[1/2,  I/2, -1/2, -I/2],\n",
       "[1/2, -1/2,  1/2, -1/2],\n",
       "[1/2, -I/2, -1/2,  I/2]])"
      ]
     },
     "execution_count": 2,
     "metadata": {},
     "output_type": "execute_result"
    }
   ],
   "source": [
    "U = sp.Rational(1/2)*sp.Matrix([[1,1,1,1],\n",
    "                  [1,sp.I,-1,-sp.I],\n",
    "                  [1,-1,1,-1],\n",
    "                  [1,-sp.I,-1,sp.I]])\n",
    "U"
   ]
  },
  {
   "cell_type": "code",
   "execution_count": 3,
   "id": "1f4a3fc1",
   "metadata": {},
   "outputs": [
    {
     "data": {
      "text/latex": [
       "$\\displaystyle \\left[\\begin{matrix}\\frac{\\sqrt{2}}{2} & \\frac{\\sqrt{2}}{2} & 0 & 0\\\\\\frac{\\sqrt{2}}{2} & - \\frac{\\sqrt{2}}{2} & 0 & 0\\\\0 & 0 & 1 & 0\\\\0 & 0 & 0 & 1\\end{matrix}\\right]$"
      ],
      "text/plain": [
       "Matrix([\n",
       "[sqrt(2)/2,  sqrt(2)/2, 0, 0],\n",
       "[sqrt(2)/2, -sqrt(2)/2, 0, 0],\n",
       "[        0,          0, 1, 0],\n",
       "[        0,          0, 0, 1]])"
      ]
     },
     "metadata": {},
     "output_type": "display_data"
    },
    {
     "data": {
      "text/latex": [
       "$\\displaystyle \\left[\\begin{matrix}\\frac{\\sqrt{6}}{3} & 0 & \\frac{\\sqrt{3}}{3} & 0\\\\0 & 1 & 0 & 0\\\\\\frac{\\sqrt{3}}{3} & 0 & - \\frac{\\sqrt{6}}{3} & 0\\\\0 & 0 & 0 & 1\\end{matrix}\\right]$"
      ],
      "text/plain": [
       "Matrix([\n",
       "[sqrt(6)/3, 0,  sqrt(3)/3, 0],\n",
       "[        0, 1,          0, 0],\n",
       "[sqrt(3)/3, 0, -sqrt(6)/3, 0],\n",
       "[        0, 0,          0, 1]])"
      ]
     },
     "metadata": {},
     "output_type": "display_data"
    },
    {
     "data": {
      "text/latex": [
       "$\\displaystyle \\left[\\begin{matrix}\\frac{\\sqrt{3}}{2} & 0 & 0 & \\frac{1}{2}\\\\0 & 1 & 0 & 0\\\\0 & 0 & 1 & 0\\\\\\frac{1}{2} & 0 & 0 & - \\frac{\\sqrt{3}}{2}\\end{matrix}\\right]$"
      ],
      "text/plain": [
       "Matrix([\n",
       "[sqrt(3)/2, 0, 0,        1/2],\n",
       "[        0, 1, 0,          0],\n",
       "[        0, 0, 1,          0],\n",
       "[      1/2, 0, 0, -sqrt(3)/2]])"
      ]
     },
     "metadata": {},
     "output_type": "display_data"
    },
    {
     "data": {
      "text/latex": [
       "$\\displaystyle \\left[\\begin{matrix}1 & 0 & 0 & 0\\\\0 & \\frac{\\sqrt{3} \\cdot \\left(1 + i\\right)}{4} & \\frac{3}{4} - \\frac{i}{4} & 0\\\\0 & \\frac{3}{4} + \\frac{i}{4} & \\frac{\\sqrt{3} \\left(-1 + i\\right)}{4} & 0\\\\0 & 0 & 0 & 1\\end{matrix}\\right]$"
      ],
      "text/plain": [
       "Matrix([\n",
       "[1,                 0,                  0, 0],\n",
       "[0, sqrt(3)*(1 + I)/4,          3/4 - I/4, 0],\n",
       "[0,         3/4 + I/4, sqrt(3)*(-1 + I)/4, 0],\n",
       "[0,                 0,                  0, 1]])"
      ]
     },
     "metadata": {},
     "output_type": "display_data"
    },
    {
     "data": {
      "text/latex": [
       "$\\displaystyle \\left[\\begin{matrix}1 & 0 & 0 & 0\\\\0 & \\frac{\\sqrt{6}}{3} & 0 & - \\frac{\\sqrt{3} i}{3}\\\\0 & 0 & 1 & 0\\\\0 & \\frac{\\sqrt{3} i}{3} & 0 & - \\frac{\\sqrt{6}}{3}\\end{matrix}\\right]$"
      ],
      "text/plain": [
       "Matrix([\n",
       "[1,           0, 0,            0],\n",
       "[0,   sqrt(6)/3, 0, -sqrt(3)*I/3],\n",
       "[0,           0, 1,            0],\n",
       "[0, sqrt(3)*I/3, 0,   -sqrt(6)/3]])"
      ]
     },
     "metadata": {},
     "output_type": "display_data"
    },
    {
     "data": {
      "text/latex": [
       "$\\displaystyle \\left[\\begin{matrix}1 & 0 & 0 & 0\\\\0 & 1 & 0 & 0\\\\0 & 0 & \\frac{\\sqrt{2}}{2} & - \\frac{\\sqrt{2}}{2}\\\\0 & 0 & - \\frac{\\sqrt{2} i}{2} & - \\frac{\\sqrt{2} i}{2}\\end{matrix}\\right]$"
      ],
      "text/plain": [
       "Matrix([\n",
       "[1, 0,            0,            0],\n",
       "[0, 1,            0,            0],\n",
       "[0, 0,    sqrt(2)/2,   -sqrt(2)/2],\n",
       "[0, 0, -sqrt(2)*I/2, -sqrt(2)*I/2]])"
      ]
     },
     "metadata": {},
     "output_type": "display_data"
    }
   ],
   "source": [
    "us = Unitary_decompose_2lvl(U)\n",
    "[display(u) for u in us];"
   ]
  },
  {
   "cell_type": "code",
   "execution_count": 4,
   "id": "e66fc3fa",
   "metadata": {},
   "outputs": [],
   "source": [
    "check = reduce((lambda x, y: x * y), [sp.conjugate(i.T) for i in us])"
   ]
  },
  {
   "cell_type": "code",
   "execution_count": 5,
   "id": "d9253566",
   "metadata": {},
   "outputs": [
    {
     "data": {
      "text/latex": [
       "$\\displaystyle \\left[\\begin{matrix}\\frac{1}{2} & \\frac{1}{2} & \\frac{1}{2} & \\frac{1}{2}\\\\\\frac{1}{2} & \\frac{i}{2} & - \\frac{1}{2} & - \\frac{i}{2}\\\\\\frac{1}{2} & - \\frac{1}{2} & \\frac{1}{2} & - \\frac{1}{2}\\\\\\frac{1}{2} & - \\frac{i}{2} & - \\frac{1}{2} & \\frac{i}{2}\\end{matrix}\\right]$"
      ],
      "text/plain": [
       "Matrix([\n",
       "[1/2,  1/2,  1/2,  1/2],\n",
       "[1/2,  I/2, -1/2, -I/2],\n",
       "[1/2, -1/2,  1/2, -1/2],\n",
       "[1/2, -I/2, -1/2,  I/2]])"
      ]
     },
     "execution_count": 5,
     "metadata": {},
     "output_type": "execute_result"
    }
   ],
   "source": [
    "sp.simplify(check)"
   ]
  },
  {
   "cell_type": "code",
   "execution_count": 6,
   "id": "ff211609",
   "metadata": {},
   "outputs": [
    {
     "data": {
      "text/latex": [
       "$\\displaystyle \\left[\\begin{matrix}\\frac{\\sqrt{2}}{2} & 0 & 0 & 0 & 0 & 0 & 0 & \\frac{\\sqrt{2}}{2}\\\\0 & 1 & 0 & 0 & 0 & 0 & 0 & 0\\\\0 & 0 & 1 & 0 & 0 & 0 & 0 & 0\\\\0 & 0 & 0 & 1 & 0 & 0 & 0 & 0\\\\0 & 0 & 0 & 0 & 1 & 0 & 0 & 0\\\\0 & 0 & 0 & 0 & 0 & 1 & 0 & 0\\\\0 & 0 & 0 & 0 & 0 & 0 & 1 & 0\\\\\\frac{\\sqrt{2}}{2} & 0 & 0 & 0 & 0 & 0 & 0 & - \\frac{\\sqrt{2}}{2}\\end{matrix}\\right]$"
      ],
      "text/plain": [
       "Matrix([\n",
       "[sqrt(2)/2, 0, 0, 0, 0, 0, 0,  sqrt(2)/2],\n",
       "[        0, 1, 0, 0, 0, 0, 0,          0],\n",
       "[        0, 0, 1, 0, 0, 0, 0,          0],\n",
       "[        0, 0, 0, 1, 0, 0, 0,          0],\n",
       "[        0, 0, 0, 0, 1, 0, 0,          0],\n",
       "[        0, 0, 0, 0, 0, 1, 0,          0],\n",
       "[        0, 0, 0, 0, 0, 0, 1,          0],\n",
       "[sqrt(2)/2, 0, 0, 0, 0, 0, 0, -sqrt(2)/2]])"
      ]
     },
     "execution_count": 6,
     "metadata": {},
     "output_type": "execute_result"
    }
   ],
   "source": [
    "U = sp.eye(8)\n",
    "U[0,0],U[0,7]=1/sp.sqrt(2),1/sp.sqrt(2)\n",
    "U[7,0],U[7,7]=1/sp.sqrt(2),-1/sp.sqrt(2)\n",
    "\n",
    "U"
   ]
  },
  {
   "cell_type": "code",
   "execution_count": 7,
   "id": "679876e0",
   "metadata": {},
   "outputs": [
    {
     "data": {
      "image/png": "[encoded data removed]",
      "text/plain": [
       "<Figure size 538.33x284.278 with 1 Axes>"
      ]
     },
     "metadata": {},
     "output_type": "display_data"
    }
   ],
   "source": [
    "qc = circuit_2lvl(U)"
   ]
  },
  {
   "cell_type": "code",
   "execution_count": 17,
   "id": "99fd3190",
   "metadata": {},
   "outputs": [
    {
     "data": {
      "text/html": [
       "<pre style=\"word-wrap: normal;white-space: pre;background: #fff0;line-height: 1.1;font-family: &quot;Courier New&quot;,Courier,monospace\">     ┌───┐               ┌───┐\n",
       "q_0: ┤ X ├──o────■────o──┤ X ├\n",
       "     └─┬─┘┌─┴─┐  │  ┌─┴─┐└─┬─┘\n",
       "q_1: ──o──┤ X ├──■──┤ X ├──o──\n",
       "       │  └─┬─┘┌─┴─┐└─┬─┘  │  \n",
       "q_2: ──o────■──┤ U ├──■────o──\n",
       "               └───┘          </pre>"
      ],
      "text/plain": [
       "     ┌───┐               ┌───┐\n",
       "q_0: ┤ X ├──o────■────o──┤ X ├\n",
       "     └─┬─┘┌─┴─┐  │  ┌─┴─┐└─┬─┘\n",
       "q_1: ──o──┤ X ├──■──┤ X ├──o──\n",
       "       │  └─┬─┘┌─┴─┐└─┬─┘  │  \n",
       "q_2: ──o────■──┤ U ├──■────o──\n",
       "               └───┘          "
      ]
     },
     "execution_count": 17,
     "metadata": {},
     "output_type": "execute_result"
    }
   ],
   "source": [
    "qc.draw()"
   ]
  },
  {
   "cell_type": "code",
   "execution_count": null,
   "id": "e16382eb",
   "metadata": {},
   "outputs": [],
   "source": []
  }
 ],
 "metadata": {
  "kernelspec": {
   "display_name": "Python 3 (ipykernel)",
   "language": "python",
   "name": "python3"
  },
  "language_info": {
   "codemirror_mode": {
    "name": "ipython",
    "version": 3
   },
   "file_extension": ".py",
   "mimetype": "text/x-python",
   "name": "python",
   "nbconvert_exporter": "python",
   "pygments_lexer": "ipython3",
   "version": "3.11.5"
  }
 },
 "nbformat": 4,
 "nbformat_minor": 5
}
